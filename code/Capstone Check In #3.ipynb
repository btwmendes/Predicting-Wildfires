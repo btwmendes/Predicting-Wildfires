{
 "cells": [
  {
   "cell_type": "markdown",
   "metadata": {},
   "source": [
    "# Capstone Check In #3"
   ]
  },
  {
   "cell_type": "markdown",
   "metadata": {},
   "source": [
    "Data in hand:\n",
    "\n",
    "- wild fire dataset\n",
    "- weather dataset"
   ]
  },
  {
   "cell_type": "markdown",
   "metadata": {},
   "source": [
    "EDA:\n",
    "\n",
    "In the process of data cleaning and exploring the data. The wildfire dataset has 1.88 million wildfires. My plan is to narrow the scope to California. I've made some preliminary graphs that show the number of wildfires in each state, the causes of wildfires, day of week, etc. I'm working on learning plotyly so I can make choropleth graphs, which I think will add a lot to the EDA and throughout the analysis. It should be easier to grasp wildfires if you can see where they are located. I also need to dig into time based graphs. My theory is that there is a fire season. \n"
   ]
  },
  {
   "cell_type": "markdown",
   "metadata": {},
   "source": [
    "Modeling:\n",
    "\n",
    "I need to hone in on what I want to predict with this data. Some ideas:\n",
    "- Predict wildfires (need a more compelling reason)\n",
    "- predict the severity/duration of a wildfire\n",
    "- predict the cause of the wildfire (arson, lightning, utility)\n",
    "\n",
    "Appropriate models could be random forest and neural network. "
   ]
  },
  {
   "cell_type": "markdown",
   "metadata": {},
   "source": [
    "Roadblocks:\n",
    "\n",
    "- It's a lot of data and I'm not sure if I'll need to set up an external server like AWS. I couldn't run AWS during the lesson this week so I'm concerned about this pathway. \n",
    "- I would like to combine fire data with weather data. My theory is that the weather plays a role in the ignition and continuation of fires. I would have to merge two datasets together based on time and location\n"
   ]
  },
  {
   "cell_type": "markdown",
   "metadata": {},
   "source": [
    "Game Plan:\n",
    "\n",
    "- Finish Data cleaning and combine fire and weather datasets\n",
    "- Finish the EDA\n",
    "- Research and write the background section\n",
    "- Start running models and get a sense of which model is most appropriate and if my machine is powerful enough to run it. Also need to identify the metrics that will evaluate the model.\n"
   ]
  },
  {
   "cell_type": "markdown",
   "metadata": {},
   "source": [
    "Must get done:\n",
    " - I must get to the modeling stage"
   ]
  },
  {
   "cell_type": "markdown",
   "metadata": {},
   "source": [
    "Want to do:\n",
    "- I'd like to explore the idea of a web interface so people could enter coordinates, time, maybe weather info and see the probability of fire danger. "
   ]
  },
  {
   "cell_type": "markdown",
   "metadata": {},
   "source": [
    "What do I want to talk about in 1:1?\n",
    "- Do the instructors have any good resources I should explore for this project."
   ]
  },
  {
   "cell_type": "markdown",
   "metadata": {},
   "source": [
    "code: \n",
    "\n",
    "Capstone Repo"
   ]
  }
 ],
 "metadata": {
  "kernelspec": {
   "display_name": "Python 3",
   "language": "python",
   "name": "python3"
  },
  "language_info": {
   "codemirror_mode": {
    "name": "ipython",
    "version": 3
   },
   "file_extension": ".py",
   "mimetype": "text/x-python",
   "name": "python",
   "nbconvert_exporter": "python",
   "pygments_lexer": "ipython3",
   "version": "3.8.3"
  }
 },
 "nbformat": 4,
 "nbformat_minor": 4
}
